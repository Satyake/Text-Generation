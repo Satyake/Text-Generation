{
  "nbformat": 4,
  "nbformat_minor": 0,
  "metadata": {
    "colab": {
      "name": "Text Generator-NLP",
      "provenance": [],
      "machine_shape": "hm",
      "authorship_tag": "ABX9TyMMkIFBClHjZPuQR59s2LJ6",
      "include_colab_link": true
    },
    "kernelspec": {
      "name": "python3",
      "display_name": "Python 3"
    },
    "language_info": {
      "name": "python"
    },
    "accelerator": "GPU"
  },
  "cells": [
    {
      "cell_type": "markdown",
      "metadata": {
        "id": "view-in-github",
        "colab_type": "text"
      },
      "source": [
        "<a href=\"https://colab.research.google.com/github/Satyake/Text-Generation/blob/main/Text_Generator_NLP.ipynb\" target=\"_parent\"><img src=\"https://colab.research.google.com/assets/colab-badge.svg\" alt=\"Open In Colab\"/></a>"
      ]
    },
    {
      "cell_type": "code",
      "execution_count": 1,
      "metadata": {
        "id": "vOtMJLUdCBsR"
      },
      "outputs": [],
      "source": [
        "import tensorflow as tf\n",
        "import numpy as np \n",
        "\n",
        "from tensorflow.keras.preprocessing.sequence import pad_sequences\n",
        "from tensorflow.keras.layers import Embedding, LSTM, Dense, Bidirectional\n",
        "from tensorflow.keras.preprocessing.text import Tokenizer\n",
        "from tensorflow.keras.models import Sequential\n",
        "from tensorflow.keras.optimizers import Adam"
      ]
    },
    {
      "cell_type": "code",
      "source": [
        "def read_file(filepath):\n",
        "  with open(filepath) as f:\n",
        "    text=f.read()\n",
        "    return text.lower().split('\\n')\n",
        " "
      ],
      "metadata": {
        "id": "KVdtTvtLCI2h"
      },
      "execution_count": 2,
      "outputs": []
    },
    {
      "cell_type": "code",
      "source": [
        "corpus=read_file('/content/HarryPotter.txt')"
      ],
      "metadata": {
        "id": "aABzkCfPCURc"
      },
      "execution_count": 3,
      "outputs": []
    },
    {
      "cell_type": "code",
      "source": [
        "tknizer=Tokenizer()\n",
        "tknizer.fit_on_texts(corpus)\n",
        "total_words=len(tknizer.word_index)"
      ],
      "metadata": {
        "id": "NikEpy4BCvot"
      },
      "execution_count": 4,
      "outputs": []
    },
    {
      "cell_type": "code",
      "source": [
        ""
      ],
      "metadata": {
        "id": "_zHRUt94DE2z"
      },
      "execution_count": 4,
      "outputs": []
    },
    {
      "cell_type": "code",
      "source": [
        "total_words"
      ],
      "metadata": {
        "colab": {
          "base_uri": "https://localhost:8080/"
        },
        "id": "6cPOp1tdDC-w",
        "outputId": "a3353195-adbc-47e4-8e10-c34f5c251a40"
      },
      "execution_count": 5,
      "outputs": [
        {
          "output_type": "execute_result",
          "data": {
            "text/plain": [
              "6034"
            ]
          },
          "metadata": {},
          "execution_count": 5
        }
      ]
    },
    {
      "cell_type": "code",
      "source": [
        "input_sequences=[]\n",
        "for line in corpus:\n",
        "  tokens=tknizer.texts_to_sequences([line])[0]\n",
        "  for i in range(1,len(tokens)):\n",
        "    n_gram_sequence=tokens[:i+1]\n",
        "    input_sequences.append(n_gram_sequence)\n",
        "max_sequence_length=max([len(x) for x in input_sequences])\n",
        "input_sequences=np.array(pad_sequences(input_sequences,maxlen=max_sequence_length,padding='pre'))\n",
        "xs,labels=input_sequences[:,:-1],input_sequences[:,-1]\n",
        "ys=tf.keras.utils.to_categorical(labels,num_classes=total_words+1)\n",
        "\n"
      ],
      "metadata": {
        "id": "Bo6Jb56CDSrG"
      },
      "execution_count": 6,
      "outputs": []
    },
    {
      "cell_type": "code",
      "source": [
        "xs.shape"
      ],
      "metadata": {
        "colab": {
          "base_uri": "https://localhost:8080/"
        },
        "id": "UFufhWZKeb6R",
        "outputId": "6cef16c8-da9d-4c67-bffb-eba3b56d6aff"
      },
      "execution_count": 7,
      "outputs": [
        {
          "output_type": "execute_result",
          "data": {
            "text/plain": [
              "(74902, 201)"
            ]
          },
          "metadata": {},
          "execution_count": 7
        }
      ]
    },
    {
      "cell_type": "code",
      "source": [
        "def model1(vocabulary_size,seq_length):\n",
        "    model = Sequential()\n",
        "    model.add(Embedding(vocabulary_size+1, 100, input_length=seq_length-1))\n",
        "    model.add(LSTM(150, return_sequences=False))\n",
        "    \n",
        "    model.add(Dense(vocabulary_size+1, activation='softmax'))\n",
        "    \n",
        "    model.compile(loss='categorical_crossentropy', optimizer=tf.keras.optimizers.Adam(learning_rate=0.01), metrics=['accuracy'])\n",
        "   \n",
        "    model.summary()\n",
        "    return model"
      ],
      "metadata": {
        "id": "pIkGcj0Ke-yB"
      },
      "execution_count": 8,
      "outputs": []
    },
    {
      "cell_type": "code",
      "source": [
        "model=model1(total_words,max_sequence_length)"
      ],
      "metadata": {
        "colab": {
          "base_uri": "https://localhost:8080/"
        },
        "id": "koQaRsdefH1n",
        "outputId": "9bb50b61-d09b-4768-8d25-c70f8be1ad98"
      },
      "execution_count": 9,
      "outputs": [
        {
          "output_type": "stream",
          "name": "stdout",
          "text": [
            "Model: \"sequential\"\n",
            "_________________________________________________________________\n",
            " Layer (type)                Output Shape              Param #   \n",
            "=================================================================\n",
            " embedding (Embedding)       (None, 201, 100)          603500    \n",
            "                                                                 \n",
            " lstm (LSTM)                 (None, 150)               150600    \n",
            "                                                                 \n",
            " dense (Dense)               (None, 6035)              911285    \n",
            "                                                                 \n",
            "=================================================================\n",
            "Total params: 1,665,385\n",
            "Trainable params: 1,665,385\n",
            "Non-trainable params: 0\n",
            "_________________________________________________________________\n"
          ]
        }
      ]
    },
    {
      "cell_type": "code",
      "source": [
        "history=model.fit(xs,ys,epochs=100)"
      ],
      "metadata": {
        "colab": {
          "base_uri": "https://localhost:8080/",
          "height": 1000
        },
        "id": "UCr6BavMfcJn",
        "outputId": "bb0d9b07-8853-4eb2-dd68-2743fe835943"
      },
      "execution_count": 11,
      "outputs": [
        {
          "output_type": "stream",
          "name": "stdout",
          "text": [
            "Epoch 1/100\n",
            "2341/2341 [==============================] - 39s 17ms/step - loss: 5.6686 - accuracy: 0.1162\n",
            "Epoch 2/100\n",
            "2341/2341 [==============================] - 39s 17ms/step - loss: 5.1802 - accuracy: 0.1347\n",
            "Epoch 3/100\n",
            "2341/2341 [==============================] - 39s 17ms/step - loss: 4.8281 - accuracy: 0.1495\n",
            "Epoch 4/100\n",
            "2341/2341 [==============================] - 39s 17ms/step - loss: 4.5497 - accuracy: 0.1615\n",
            "Epoch 5/100\n",
            "2341/2341 [==============================] - 39s 16ms/step - loss: 4.3457 - accuracy: 0.1756\n",
            "Epoch 6/100\n",
            "2341/2341 [==============================] - 39s 17ms/step - loss: 4.1968 - accuracy: 0.1859\n",
            "Epoch 7/100\n",
            "2341/2341 [==============================] - 39s 17ms/step - loss: 4.1043 - accuracy: 0.1929\n",
            "Epoch 8/100\n",
            "2341/2341 [==============================] - 38s 16ms/step - loss: 4.0270 - accuracy: 0.1999\n",
            "Epoch 9/100\n",
            "2341/2341 [==============================] - 38s 16ms/step - loss: 3.9852 - accuracy: 0.2047\n",
            "Epoch 10/100\n",
            "2341/2341 [==============================] - 38s 16ms/step - loss: 3.9228 - accuracy: 0.2097\n",
            "Epoch 11/100\n",
            "2341/2341 [==============================] - 38s 16ms/step - loss: 3.9047 - accuracy: 0.2114\n",
            "Epoch 12/100\n",
            "2341/2341 [==============================] - 38s 16ms/step - loss: 3.8650 - accuracy: 0.2156\n",
            "Epoch 13/100\n",
            "2341/2341 [==============================] - 38s 16ms/step - loss: 3.8313 - accuracy: 0.2177\n",
            "Epoch 14/100\n",
            "2341/2341 [==============================] - 39s 17ms/step - loss: 3.8295 - accuracy: 0.2204\n",
            "Epoch 15/100\n",
            "2341/2341 [==============================] - 39s 17ms/step - loss: 3.8191 - accuracy: 0.2238\n",
            "Epoch 16/100\n",
            "2341/2341 [==============================] - 38s 16ms/step - loss: 3.8126 - accuracy: 0.2222\n",
            "Epoch 17/100\n",
            "2341/2341 [==============================] - 38s 16ms/step - loss: 3.8061 - accuracy: 0.2248\n",
            "Epoch 18/100\n",
            "2341/2341 [==============================] - 38s 16ms/step - loss: 3.7692 - accuracy: 0.2282\n",
            "Epoch 19/100\n",
            "2341/2341 [==============================] - 39s 16ms/step - loss: 3.7752 - accuracy: 0.2281\n",
            "Epoch 20/100\n",
            "2341/2341 [==============================] - 39s 17ms/step - loss: 3.7671 - accuracy: 0.2307\n",
            "Epoch 21/100\n",
            "2341/2341 [==============================] - 39s 17ms/step - loss: 3.7708 - accuracy: 0.2314\n",
            "Epoch 22/100\n",
            "2341/2341 [==============================] - 39s 17ms/step - loss: 3.7568 - accuracy: 0.2327\n",
            "Epoch 23/100\n",
            "2341/2341 [==============================] - 39s 17ms/step - loss: 3.7649 - accuracy: 0.2293\n",
            "Epoch 24/100\n",
            "2341/2341 [==============================] - 39s 17ms/step - loss: 3.7690 - accuracy: 0.2321\n",
            "Epoch 25/100\n",
            "2341/2341 [==============================] - 39s 17ms/step - loss: 3.7588 - accuracy: 0.2314\n",
            "Epoch 26/100\n",
            "2341/2341 [==============================] - 39s 17ms/step - loss: 3.7869 - accuracy: 0.2327\n",
            "Epoch 27/100\n",
            "2341/2341 [==============================] - 39s 17ms/step - loss: 3.7552 - accuracy: 0.2328\n",
            "Epoch 28/100\n",
            "2341/2341 [==============================] - 39s 17ms/step - loss: 3.7511 - accuracy: 0.2317\n",
            "Epoch 29/100\n",
            "2341/2341 [==============================] - 39s 17ms/step - loss: 3.7618 - accuracy: 0.2341\n",
            "Epoch 30/100\n",
            "2341/2341 [==============================] - 39s 17ms/step - loss: 3.7474 - accuracy: 0.2353\n",
            "Epoch 31/100\n",
            "2341/2341 [==============================] - 39s 17ms/step - loss: 3.7627 - accuracy: 0.2356\n",
            "Epoch 32/100\n",
            "2341/2341 [==============================] - 39s 17ms/step - loss: 3.7526 - accuracy: 0.2378\n",
            "Epoch 33/100\n",
            "2341/2341 [==============================] - 39s 17ms/step - loss: 3.7439 - accuracy: 0.2380\n",
            "Epoch 34/100\n",
            "2341/2341 [==============================] - 39s 17ms/step - loss: 3.7180 - accuracy: 0.2406\n",
            "Epoch 35/100\n",
            "2341/2341 [==============================] - 39s 17ms/step - loss: 3.7228 - accuracy: 0.2395\n",
            "Epoch 36/100\n",
            "2341/2341 [==============================] - 39s 17ms/step - loss: 3.7260 - accuracy: 0.2404\n",
            "Epoch 37/100\n",
            "2341/2341 [==============================] - 39s 16ms/step - loss: 3.7512 - accuracy: 0.2374\n",
            "Epoch 38/100\n",
            "2341/2341 [==============================] - 39s 17ms/step - loss: 3.7536 - accuracy: 0.2377\n",
            "Epoch 39/100\n",
            "2341/2341 [==============================] - 39s 17ms/step - loss: 3.7396 - accuracy: 0.2412\n",
            "Epoch 40/100\n",
            " 569/2341 [======>.......................] - ETA: 29s - loss: 3.4954 - accuracy: 0.2696"
          ]
        },
        {
          "output_type": "error",
          "ename": "KeyboardInterrupt",
          "evalue": "ignored",
          "traceback": [
            "\u001b[0;31m---------------------------------------------------------------------------\u001b[0m",
            "\u001b[0;31mKeyboardInterrupt\u001b[0m                         Traceback (most recent call last)",
            "\u001b[0;32m<ipython-input-11-c3d79c456d4e>\u001b[0m in \u001b[0;36m<module>\u001b[0;34m()\u001b[0m\n\u001b[0;32m----> 1\u001b[0;31m \u001b[0mhistory\u001b[0m\u001b[0;34m=\u001b[0m\u001b[0mmodel\u001b[0m\u001b[0;34m.\u001b[0m\u001b[0mfit\u001b[0m\u001b[0;34m(\u001b[0m\u001b[0mxs\u001b[0m\u001b[0;34m,\u001b[0m\u001b[0mys\u001b[0m\u001b[0;34m,\u001b[0m\u001b[0mepochs\u001b[0m\u001b[0;34m=\u001b[0m\u001b[0;36m100\u001b[0m\u001b[0;34m)\u001b[0m\u001b[0;34m\u001b[0m\u001b[0;34m\u001b[0m\u001b[0m\n\u001b[0m",
            "\u001b[0;32m/usr/local/lib/python3.7/dist-packages/keras/utils/traceback_utils.py\u001b[0m in \u001b[0;36merror_handler\u001b[0;34m(*args, **kwargs)\u001b[0m\n\u001b[1;32m     62\u001b[0m     \u001b[0mfiltered_tb\u001b[0m \u001b[0;34m=\u001b[0m \u001b[0;32mNone\u001b[0m\u001b[0;34m\u001b[0m\u001b[0;34m\u001b[0m\u001b[0m\n\u001b[1;32m     63\u001b[0m     \u001b[0;32mtry\u001b[0m\u001b[0;34m:\u001b[0m\u001b[0;34m\u001b[0m\u001b[0;34m\u001b[0m\u001b[0m\n\u001b[0;32m---> 64\u001b[0;31m       \u001b[0;32mreturn\u001b[0m \u001b[0mfn\u001b[0m\u001b[0;34m(\u001b[0m\u001b[0;34m*\u001b[0m\u001b[0margs\u001b[0m\u001b[0;34m,\u001b[0m \u001b[0;34m**\u001b[0m\u001b[0mkwargs\u001b[0m\u001b[0;34m)\u001b[0m\u001b[0;34m\u001b[0m\u001b[0;34m\u001b[0m\u001b[0m\n\u001b[0m\u001b[1;32m     65\u001b[0m     \u001b[0;32mexcept\u001b[0m \u001b[0mException\u001b[0m \u001b[0;32mas\u001b[0m \u001b[0me\u001b[0m\u001b[0;34m:\u001b[0m  \u001b[0;31m# pylint: disable=broad-except\u001b[0m\u001b[0;34m\u001b[0m\u001b[0;34m\u001b[0m\u001b[0m\n\u001b[1;32m     66\u001b[0m       \u001b[0mfiltered_tb\u001b[0m \u001b[0;34m=\u001b[0m \u001b[0m_process_traceback_frames\u001b[0m\u001b[0;34m(\u001b[0m\u001b[0me\u001b[0m\u001b[0;34m.\u001b[0m\u001b[0m__traceback__\u001b[0m\u001b[0;34m)\u001b[0m\u001b[0;34m\u001b[0m\u001b[0;34m\u001b[0m\u001b[0m\n",
            "\u001b[0;32m/usr/local/lib/python3.7/dist-packages/keras/engine/training.py\u001b[0m in \u001b[0;36mfit\u001b[0;34m(self, x, y, batch_size, epochs, verbose, callbacks, validation_split, validation_data, shuffle, class_weight, sample_weight, initial_epoch, steps_per_epoch, validation_steps, validation_batch_size, validation_freq, max_queue_size, workers, use_multiprocessing)\u001b[0m\n\u001b[1;32m   1382\u001b[0m                 _r=1):\n\u001b[1;32m   1383\u001b[0m               \u001b[0mcallbacks\u001b[0m\u001b[0;34m.\u001b[0m\u001b[0mon_train_batch_begin\u001b[0m\u001b[0;34m(\u001b[0m\u001b[0mstep\u001b[0m\u001b[0;34m)\u001b[0m\u001b[0;34m\u001b[0m\u001b[0;34m\u001b[0m\u001b[0m\n\u001b[0;32m-> 1384\u001b[0;31m               \u001b[0mtmp_logs\u001b[0m \u001b[0;34m=\u001b[0m \u001b[0mself\u001b[0m\u001b[0;34m.\u001b[0m\u001b[0mtrain_function\u001b[0m\u001b[0;34m(\u001b[0m\u001b[0miterator\u001b[0m\u001b[0;34m)\u001b[0m\u001b[0;34m\u001b[0m\u001b[0;34m\u001b[0m\u001b[0m\n\u001b[0m\u001b[1;32m   1385\u001b[0m               \u001b[0;32mif\u001b[0m \u001b[0mdata_handler\u001b[0m\u001b[0;34m.\u001b[0m\u001b[0mshould_sync\u001b[0m\u001b[0;34m:\u001b[0m\u001b[0;34m\u001b[0m\u001b[0;34m\u001b[0m\u001b[0m\n\u001b[1;32m   1386\u001b[0m                 \u001b[0mcontext\u001b[0m\u001b[0;34m.\u001b[0m\u001b[0masync_wait\u001b[0m\u001b[0;34m(\u001b[0m\u001b[0;34m)\u001b[0m\u001b[0;34m\u001b[0m\u001b[0;34m\u001b[0m\u001b[0m\n",
            "\u001b[0;32m/usr/local/lib/python3.7/dist-packages/tensorflow/python/util/traceback_utils.py\u001b[0m in \u001b[0;36merror_handler\u001b[0;34m(*args, **kwargs)\u001b[0m\n\u001b[1;32m    148\u001b[0m     \u001b[0mfiltered_tb\u001b[0m \u001b[0;34m=\u001b[0m \u001b[0;32mNone\u001b[0m\u001b[0;34m\u001b[0m\u001b[0;34m\u001b[0m\u001b[0m\n\u001b[1;32m    149\u001b[0m     \u001b[0;32mtry\u001b[0m\u001b[0;34m:\u001b[0m\u001b[0;34m\u001b[0m\u001b[0;34m\u001b[0m\u001b[0m\n\u001b[0;32m--> 150\u001b[0;31m       \u001b[0;32mreturn\u001b[0m \u001b[0mfn\u001b[0m\u001b[0;34m(\u001b[0m\u001b[0;34m*\u001b[0m\u001b[0margs\u001b[0m\u001b[0;34m,\u001b[0m \u001b[0;34m**\u001b[0m\u001b[0mkwargs\u001b[0m\u001b[0;34m)\u001b[0m\u001b[0;34m\u001b[0m\u001b[0;34m\u001b[0m\u001b[0m\n\u001b[0m\u001b[1;32m    151\u001b[0m     \u001b[0;32mexcept\u001b[0m \u001b[0mException\u001b[0m \u001b[0;32mas\u001b[0m \u001b[0me\u001b[0m\u001b[0;34m:\u001b[0m\u001b[0;34m\u001b[0m\u001b[0;34m\u001b[0m\u001b[0m\n\u001b[1;32m    152\u001b[0m       \u001b[0mfiltered_tb\u001b[0m \u001b[0;34m=\u001b[0m \u001b[0m_process_traceback_frames\u001b[0m\u001b[0;34m(\u001b[0m\u001b[0me\u001b[0m\u001b[0;34m.\u001b[0m\u001b[0m__traceback__\u001b[0m\u001b[0;34m)\u001b[0m\u001b[0;34m\u001b[0m\u001b[0;34m\u001b[0m\u001b[0m\n",
            "\u001b[0;32m/usr/local/lib/python3.7/dist-packages/tensorflow/python/eager/def_function.py\u001b[0m in \u001b[0;36m__call__\u001b[0;34m(self, *args, **kwds)\u001b[0m\n\u001b[1;32m    913\u001b[0m \u001b[0;34m\u001b[0m\u001b[0m\n\u001b[1;32m    914\u001b[0m       \u001b[0;32mwith\u001b[0m \u001b[0mOptionalXlaContext\u001b[0m\u001b[0;34m(\u001b[0m\u001b[0mself\u001b[0m\u001b[0;34m.\u001b[0m\u001b[0m_jit_compile\u001b[0m\u001b[0;34m)\u001b[0m\u001b[0;34m:\u001b[0m\u001b[0;34m\u001b[0m\u001b[0;34m\u001b[0m\u001b[0m\n\u001b[0;32m--> 915\u001b[0;31m         \u001b[0mresult\u001b[0m \u001b[0;34m=\u001b[0m \u001b[0mself\u001b[0m\u001b[0;34m.\u001b[0m\u001b[0m_call\u001b[0m\u001b[0;34m(\u001b[0m\u001b[0;34m*\u001b[0m\u001b[0margs\u001b[0m\u001b[0;34m,\u001b[0m \u001b[0;34m**\u001b[0m\u001b[0mkwds\u001b[0m\u001b[0;34m)\u001b[0m\u001b[0;34m\u001b[0m\u001b[0;34m\u001b[0m\u001b[0m\n\u001b[0m\u001b[1;32m    916\u001b[0m \u001b[0;34m\u001b[0m\u001b[0m\n\u001b[1;32m    917\u001b[0m       \u001b[0mnew_tracing_count\u001b[0m \u001b[0;34m=\u001b[0m \u001b[0mself\u001b[0m\u001b[0;34m.\u001b[0m\u001b[0mexperimental_get_tracing_count\u001b[0m\u001b[0;34m(\u001b[0m\u001b[0;34m)\u001b[0m\u001b[0;34m\u001b[0m\u001b[0;34m\u001b[0m\u001b[0m\n",
            "\u001b[0;32m/usr/local/lib/python3.7/dist-packages/tensorflow/python/eager/def_function.py\u001b[0m in \u001b[0;36m_call\u001b[0;34m(self, *args, **kwds)\u001b[0m\n\u001b[1;32m    945\u001b[0m       \u001b[0;31m# In this case we have created variables on the first call, so we run the\u001b[0m\u001b[0;34m\u001b[0m\u001b[0;34m\u001b[0m\u001b[0;34m\u001b[0m\u001b[0m\n\u001b[1;32m    946\u001b[0m       \u001b[0;31m# defunned version which is guaranteed to never create variables.\u001b[0m\u001b[0;34m\u001b[0m\u001b[0;34m\u001b[0m\u001b[0;34m\u001b[0m\u001b[0m\n\u001b[0;32m--> 947\u001b[0;31m       \u001b[0;32mreturn\u001b[0m \u001b[0mself\u001b[0m\u001b[0;34m.\u001b[0m\u001b[0m_stateless_fn\u001b[0m\u001b[0;34m(\u001b[0m\u001b[0;34m*\u001b[0m\u001b[0margs\u001b[0m\u001b[0;34m,\u001b[0m \u001b[0;34m**\u001b[0m\u001b[0mkwds\u001b[0m\u001b[0;34m)\u001b[0m  \u001b[0;31m# pylint: disable=not-callable\u001b[0m\u001b[0;34m\u001b[0m\u001b[0;34m\u001b[0m\u001b[0m\n\u001b[0m\u001b[1;32m    948\u001b[0m     \u001b[0;32melif\u001b[0m \u001b[0mself\u001b[0m\u001b[0;34m.\u001b[0m\u001b[0m_stateful_fn\u001b[0m \u001b[0;32mis\u001b[0m \u001b[0;32mnot\u001b[0m \u001b[0;32mNone\u001b[0m\u001b[0;34m:\u001b[0m\u001b[0;34m\u001b[0m\u001b[0;34m\u001b[0m\u001b[0m\n\u001b[1;32m    949\u001b[0m       \u001b[0;31m# Release the lock early so that multiple threads can perform the call\u001b[0m\u001b[0;34m\u001b[0m\u001b[0;34m\u001b[0m\u001b[0;34m\u001b[0m\u001b[0m\n",
            "\u001b[0;32m/usr/local/lib/python3.7/dist-packages/tensorflow/python/eager/function.py\u001b[0m in \u001b[0;36m__call__\u001b[0;34m(self, *args, **kwargs)\u001b[0m\n\u001b[1;32m   2955\u001b[0m        filtered_flat_args) = self._maybe_define_function(args, kwargs)\n\u001b[1;32m   2956\u001b[0m     return graph_function._call_flat(\n\u001b[0;32m-> 2957\u001b[0;31m         filtered_flat_args, captured_inputs=graph_function.captured_inputs)  # pylint: disable=protected-access\n\u001b[0m\u001b[1;32m   2958\u001b[0m \u001b[0;34m\u001b[0m\u001b[0m\n\u001b[1;32m   2959\u001b[0m   \u001b[0;34m@\u001b[0m\u001b[0mproperty\u001b[0m\u001b[0;34m\u001b[0m\u001b[0;34m\u001b[0m\u001b[0m\n",
            "\u001b[0;32m/usr/local/lib/python3.7/dist-packages/tensorflow/python/eager/function.py\u001b[0m in \u001b[0;36m_call_flat\u001b[0;34m(self, args, captured_inputs, cancellation_manager)\u001b[0m\n\u001b[1;32m   1852\u001b[0m       \u001b[0;31m# No tape is watching; skip to running the function.\u001b[0m\u001b[0;34m\u001b[0m\u001b[0;34m\u001b[0m\u001b[0;34m\u001b[0m\u001b[0m\n\u001b[1;32m   1853\u001b[0m       return self._build_call_outputs(self._inference_function.call(\n\u001b[0;32m-> 1854\u001b[0;31m           ctx, args, cancellation_manager=cancellation_manager))\n\u001b[0m\u001b[1;32m   1855\u001b[0m     forward_backward = self._select_forward_and_backward_functions(\n\u001b[1;32m   1856\u001b[0m         \u001b[0margs\u001b[0m\u001b[0;34m,\u001b[0m\u001b[0;34m\u001b[0m\u001b[0;34m\u001b[0m\u001b[0m\n",
            "\u001b[0;32m/usr/local/lib/python3.7/dist-packages/tensorflow/python/eager/function.py\u001b[0m in \u001b[0;36mcall\u001b[0;34m(self, ctx, args, cancellation_manager)\u001b[0m\n\u001b[1;32m    502\u001b[0m               \u001b[0minputs\u001b[0m\u001b[0;34m=\u001b[0m\u001b[0margs\u001b[0m\u001b[0;34m,\u001b[0m\u001b[0;34m\u001b[0m\u001b[0;34m\u001b[0m\u001b[0m\n\u001b[1;32m    503\u001b[0m               \u001b[0mattrs\u001b[0m\u001b[0;34m=\u001b[0m\u001b[0mattrs\u001b[0m\u001b[0;34m,\u001b[0m\u001b[0;34m\u001b[0m\u001b[0;34m\u001b[0m\u001b[0m\n\u001b[0;32m--> 504\u001b[0;31m               ctx=ctx)\n\u001b[0m\u001b[1;32m    505\u001b[0m         \u001b[0;32melse\u001b[0m\u001b[0;34m:\u001b[0m\u001b[0;34m\u001b[0m\u001b[0;34m\u001b[0m\u001b[0m\n\u001b[1;32m    506\u001b[0m           outputs = execute.execute_with_cancellation(\n",
            "\u001b[0;32m/usr/local/lib/python3.7/dist-packages/tensorflow/python/eager/execute.py\u001b[0m in \u001b[0;36mquick_execute\u001b[0;34m(op_name, num_outputs, inputs, attrs, ctx, name)\u001b[0m\n\u001b[1;32m     53\u001b[0m     \u001b[0mctx\u001b[0m\u001b[0;34m.\u001b[0m\u001b[0mensure_initialized\u001b[0m\u001b[0;34m(\u001b[0m\u001b[0;34m)\u001b[0m\u001b[0;34m\u001b[0m\u001b[0;34m\u001b[0m\u001b[0m\n\u001b[1;32m     54\u001b[0m     tensors = pywrap_tfe.TFE_Py_Execute(ctx._handle, device_name, op_name,\n\u001b[0;32m---> 55\u001b[0;31m                                         inputs, attrs, num_outputs)\n\u001b[0m\u001b[1;32m     56\u001b[0m   \u001b[0;32mexcept\u001b[0m \u001b[0mcore\u001b[0m\u001b[0;34m.\u001b[0m\u001b[0m_NotOkStatusException\u001b[0m \u001b[0;32mas\u001b[0m \u001b[0me\u001b[0m\u001b[0;34m:\u001b[0m\u001b[0;34m\u001b[0m\u001b[0;34m\u001b[0m\u001b[0m\n\u001b[1;32m     57\u001b[0m     \u001b[0;32mif\u001b[0m \u001b[0mname\u001b[0m \u001b[0;32mis\u001b[0m \u001b[0;32mnot\u001b[0m \u001b[0;32mNone\u001b[0m\u001b[0;34m:\u001b[0m\u001b[0;34m\u001b[0m\u001b[0;34m\u001b[0m\u001b[0m\n",
            "\u001b[0;31mKeyboardInterrupt\u001b[0m: "
          ]
        }
      ]
    },
    {
      "cell_type": "code",
      "source": [
        "def generate_text(model,tknizer,seed_text,num_gen_words, seq_len):\n",
        "  seed_text=seed_text\n",
        "  \n",
        "  for i in range(num_gen_words):\n",
        "    \t# Convert the seed text to a token sequence\n",
        "\n",
        "    encoded_text=tknizer.texts_to_sequences([seed_text])[0]\n",
        "    \t# Pad the sequence\n",
        "\n",
        "    padded=tf.keras.preprocessing.sequence.pad_sequences([encoded_text],maxlen=seq_len-1,truncating='pre')\n",
        "    \t# Feed to the model and get the probabilities for each index\n",
        "\n",
        "    predict_index=model.predict(padded)\n",
        "    \t# Get the index with the highest probability\n",
        "\t\t\n",
        "\n",
        "    predict_index=np.argmax(predict_index,axis=-1)[0]\n",
        "        # Look up the word associated with the index. \n",
        "\n",
        "    predicted_word=tknizer.index_word[predict_index]\n",
        "    \t\t# Combine with the seed text\n",
        "\n",
        "    seed_text+=' ' + predicted_word\n",
        "  print(seed_text)\n"
      ],
      "metadata": {
        "id": "9I4ZDqusgZ_7"
      },
      "execution_count": 21,
      "outputs": []
    },
    {
      "cell_type": "code",
      "source": [
        ""
      ],
      "metadata": {
        "colab": {
          "base_uri": "https://localhost:8080/"
        },
        "id": "-RwEUTWvmpUM",
        "outputId": "7c1ca1ab-09aa-4885-a8e5-8742a8241e3b"
      },
      "execution_count": 20,
      "outputs": [
        {
          "output_type": "stream",
          "name": "stdout",
          "text": [
            "help me harry get past fluffy and a few minutes later i mean once you know who was a bit mad ter tell yeh if you know who was a bit mad ter tell yeh if you know who was a bit mad ter tell yeh if you know who was a bit mad ter tell yeh if you know who was a bit mad ter tell yeh if you know who was a bit mad ter tell yeh if you know who was a bit mad ter tell yeh if you know who was a bit mad ter tell yeh if you\n"
          ]
        }
      ]
    },
    {
      "cell_type": "code",
      "source": [
        "text='Dumbledore knocked'\n",
        "generate_text(model,tknizer,text,20,max_sequence_length)"
      ],
      "metadata": {
        "colab": {
          "base_uri": "https://localhost:8080/"
        },
        "id": "0oQ1LLsemLiE",
        "outputId": "eac36cf4-cf85-43b3-bf55-2c1764218238"
      },
      "execution_count": 34,
      "outputs": [
        {
          "output_type": "stream",
          "name": "stdout",
          "text": [
            "Dumbledore knocked one o' the reasons why he's going to be able to get round patil folk but i don't think i\n"
          ]
        }
      ]
    },
    {
      "cell_type": "code",
      "source": [
        "text='Wingardium leviosa'\n",
        "generate_text(model,tknizer,text,20,max_sequence_length)"
      ],
      "metadata": {
        "colab": {
          "base_uri": "https://localhost:8080/"
        },
        "id": "ETsexbVSoJfO",
        "outputId": "2d41e42c-9d9e-4003-fb3c-ba0b66064c00"
      },
      "execution_count": 35,
      "outputs": [
        {
          "output_type": "stream",
          "name": "stdout",
          "text": [
            "Wingardium leviosa he shouted spotted the man sitting astride and spoke out of the field waiting for several years and smirking hammering\n"
          ]
        }
      ]
    },
    {
      "cell_type": "code",
      "source": [
        "text='Harry your moms gay'\n",
        "generate_text(model,tknizer,text,20,max_sequence_length)"
      ],
      "metadata": {
        "colab": {
          "base_uri": "https://localhost:8080/"
        },
        "id": "ESeq4AyboRdg",
        "outputId": "0f7dc62c-7430-439a-865f-2f055e2417d2"
      },
      "execution_count": 36,
      "outputs": [
        {
          "output_type": "stream",
          "name": "stdout",
          "text": [
            "Harry your moms gay mom and dad was a very strange of the snitch they were a nice normal day she was a very\n"
          ]
        }
      ]
    },
    {
      "cell_type": "code",
      "source": [
        "text='harry fapped at her'\n",
        "generate_text(model,tknizer,text,20,max_sequence_length)"
      ],
      "metadata": {
        "colab": {
          "base_uri": "https://localhost:8080/"
        },
        "id": "1wH6ig16oV7N",
        "outputId": "b56432be-0053-4897-dce9-6ff37d7d20f6"
      },
      "execution_count": 39,
      "outputs": [
        {
          "output_type": "stream",
          "name": "stdout",
          "text": [
            "harry fapped at her harry and ron was going to be able to get round gloves few moldy many presents as he spoke about\n"
          ]
        }
      ]
    }
  ]
}